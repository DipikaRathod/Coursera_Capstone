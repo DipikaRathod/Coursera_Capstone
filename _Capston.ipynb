{
 "cells": [
  {
   "cell_type": "markdown",
   "id": "81b253fb-9793-497f-9d96-2ffb75847bd2",
   "metadata": {},
   "source": [
    "# Capstone Project - The Battle of the Neighborhoods (Week 4)\n",
    "### Applied Data Science Capstone by IBM/Coursera"
   ]
  },
  {
   "cell_type": "markdown",
   "id": "897af666-fdde-4c25-b5b2-92e47249e61f",
   "metadata": {},
   "source": [
    "## Table of contents\n",
    "* [Introduction: Business Problem](#introduction)\n",
    "* [Data](#data)\n",
    "* [Methodology](#methodology)\n",
    "* [Analysis](#analysis)\n",
    "* [Results and Discussion](#results)\n",
    "* [Conclusion](#conclusion)"
   ]
  },
  {
   "cell_type": "markdown",
   "id": "66437da2-bcc5-48f1-b246-8a91e44df65e",
   "metadata": {},
   "source": [
    "## Introduction: Business Problem"
   ]
  },
  {
   "cell_type": "markdown",
   "id": "60f3a72c-2d26-4e49-9537-202fe2bad3dc",
   "metadata": {},
   "source": [
    "New York is famous for its Italian-American cuisines. In this project, We will try to determine the optimal location in the neighborhood of **New York City** to setup a new **Italian Restaurant** .\n",
    "\n",
    "New York already has lot of places which are famous for differnt kinds of Italian foods.Thus our focus will be on **finding a location which is not yet much crowded with Italian Restaurants**. Since, we are also particularly interested in setting up an Italian restaurant, we will be looking at **areas with no Italian restaurants in vicinity**. We would also prefer locations **as close to city center as possible**, assuming that first two conditions are met.\n",
    "\n",
    "We will use our data science powers to generate a few most promissing neighborhoods based on this criteria. Advantages of each area will then be clearly expressed so that best possible final location can be chosen by stakeholders."
   ]
  },
  {
   "cell_type": "markdown",
   "id": "382d3304-aa0a-4150-9072-359da140ea90",
   "metadata": {},
   "source": [
    "## Data <a name=\"data\"></a>"
   ]
  },
  {
   "cell_type": "markdown",
   "id": "18c6a722-d0d4-4da2-a646-307d9cdcdeeb",
   "metadata": {},
   "source": [
    "After specifying the problem statement, it is pretty clear that the factors which will affect while acquiring the data are as follows:\n",
    "* number of existing restaurants in the neighborhood (any type of restaurant)\n",
    "* number of and distance to Italian restaurants in the neighborhood, if any\n",
    "* distance of neighborhood from city center\n",
    "\n",
    "We decided to use regularly spaced grid of locations, centered around city center, to define our neighborhoods.\n",
    "\n",
    "Following data sources will be needed to extract/generate the required information:\n",
    "* centers of candidate areas will be generated algorithmically and approximate addresses of centers of those areas will be obtained using **Google Maps API reverse geocoding**\n",
    "* number of restaurants and their type and location in every neighborhood will be obtained using **Foursquare API**\n",
    "* coordinate of New York City center will be obtained using **Google Maps API geocoding** of well known Manhattan borough which is the major financial, commercial, and cultural center of NYC"
   ]
  },
  {
   "cell_type": "markdown",
   "id": "89eca621-a39c-48f8-b4ce-41bf46ab3802",
   "metadata": {},
   "source": [
    "## Methodology <a name=Methodology></a>"
   ]
  },
  {
   "cell_type": "markdown",
   "id": "223cf438-49a5-453e-b9c3-057d6d4b4ab1",
   "metadata": {},
   "source": [
    "In this project we will direct our efforts on detecting areas of Berlin that have low restaurant density, particularly those with low number of Italian restaurants. We will limit our analysis to area ~6km around city center.\n",
    "\n",
    "In first step we have collected the required **data: location and type (category) of every restaurant within 6km from Berlin center** (Alexanderplatz). We have also **identified Italian restaurants** (according to Foursquare categorization).\n",
    "\n",
    "Second step in our analysis will be calculation and exploration of '**restaurant density**' across different areas of Berlin - we will use **heatmaps** to identify a few promising areas close to center with low number of restaurants in general (*and* no Italian restaurants in vicinity) and focus our attention on those areas.\n",
    "\n",
    "In third and final step we will focus on most promising areas and within those create **clusters of locations that meet some basic requirements** established in discussion with stakeholders: we will take into consideration locations with **no more than two restaurants in radius of 250 meters**, and we want locations **without Italian restaurants in radius of 400 meters**. We will present map of all such locations but also create clusters (using **k-means clustering**) of those locations to identify general zones / neighborhoods / addresses which should be a starting point for final 'street level' exploration and search for optimal venue location by stakeholders."
   ]
  },
  {
   "cell_type": "code",
   "execution_count": null,
   "id": "dcee5024-7f05-49d7-b4a9-5262814d0238",
   "metadata": {},
   "outputs": [],
   "source": []
  }
 ],
 "metadata": {
  "kernelspec": {
   "display_name": "",
   "name": ""
  },
  "language_info": {
   "name": ""
  }
 },
 "nbformat": 4,
 "nbformat_minor": 5
}
